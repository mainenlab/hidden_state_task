{
 "cells": [
  {
   "cell_type": "code",
   "execution_count": 1,
   "metadata": {
    "collapsed": false
   },
   "outputs": [
    {
     "name": "stderr",
     "output_type": "stream",
     "text": [
      "WARNING: Method definition describe(AbstractArray) in module StatsBase at /Users/pietro/.julia/v0.5/StatsBase/src/scalarstats.jl:573 overwritten in module DataFrames at /Users/pietro/.julia/v0.5/DataFrames/src/abstractdataframe/abstractdataframe.jl:407.\n"
     ]
    }
   ],
   "source": [
    "using JSON\n",
    "using DataFrames"
   ]
  },
  {
   "cell_type": "code",
   "execution_count": 3,
   "metadata": {
    "collapsed": false
   },
   "outputs": [],
   "source": [
    "dict = JSON.parsefile(\"/Users/pietro/Documents/save_try.json\")\n",
    "data = DataFrame()\n",
    "for key in keys(dict)\n",
    "    data[Symbol(key)] = [x for x in dict[key]]\n",
    "end"
   ]
  },
  {
   "cell_type": "code",
   "execution_count": 5,
   "metadata": {
    "collapsed": false
   },
   "outputs": [
    {
     "data": {
      "text/plain": [
       "95-element DataArrays.DataArray{Int64,1}:\n",
       "  5170\n",
       "  5254\n",
       "  5322\n",
       "  5388\n",
       "  5470\n",
       "  5554\n",
       "  5638\n",
       "  6405\n",
       "  6487\n",
       "  6554\n",
       "  6638\n",
       "  6720\n",
       "  6804\n",
       "     ⋮\n",
       " 19139\n",
       " 19221\n",
       " 19304\n",
       " 19388\n",
       " 19472\n",
       " 19555\n",
       " 19654\n",
       " 19804\n",
       " 19871\n",
       " 19954\n",
       " 20038\n",
       " 20104"
      ]
     },
     "execution_count": 5,
     "metadata": {},
     "output_type": "execute_result"
    }
   ],
   "source": [
    "data[:time]"
   ]
  },
  {
   "cell_type": "code",
   "execution_count": null,
   "metadata": {
    "collapsed": true
   },
   "outputs": [],
   "source": []
  }
 ],
 "metadata": {
  "kernelspec": {
   "display_name": "Julia 0.5.2",
   "language": "julia",
   "name": "julia-0.5"
  },
  "language_info": {
   "file_extension": ".jl",
   "mimetype": "application/julia",
   "name": "julia",
   "version": "0.5.2"
  }
 },
 "nbformat": 4,
 "nbformat_minor": 2
}
